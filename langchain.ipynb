{
 "cells": [
  {
   "cell_type": "code",
   "execution_count": 1,
   "metadata": {},
   "outputs": [],
   "source": [
    "import os\n",
    "from constants import openai_key,openhf_key\n"
   ]
  },
  {
   "cell_type": "code",
   "execution_count": 2,
   "metadata": {},
   "outputs": [],
   "source": [
    "os.environ[\"OPENAI_API_KEY\"]=openai_key"
   ]
  },
  {
   "cell_type": "code",
   "execution_count": 3,
   "metadata": {},
   "outputs": [
    {
     "name": "stderr",
     "output_type": "stream",
     "text": [
      "/Users/bhaskaradhikari/langchain/venv/lib/python3.9/site-packages/langchain_core/_api/deprecation.py:117: LangChainDeprecationWarning: The class `langchain_community.llms.openai.OpenAI` was deprecated in langchain-community 0.0.10 and will be removed in 0.2.0. An updated version of the class exists in the langchain-openai package and should be used instead. To use it run `pip install -U langchain-openai` and import as `from langchain_openai import OpenAI`.\n",
      "  warn_deprecated(\n"
     ]
    }
   ],
   "source": [
    "from langchain.llms import OpenAI\n",
    "llm=OpenAI(temperature=.6)"
   ]
  },
  {
   "cell_type": "code",
   "execution_count": 4,
   "metadata": {},
   "outputs": [
    {
     "name": "stderr",
     "output_type": "stream",
     "text": [
      "/Users/bhaskaradhikari/langchain/venv/lib/python3.9/site-packages/langchain_core/_api/deprecation.py:117: LangChainDeprecationWarning: The function `predict` was deprecated in LangChain 0.1.7 and will be removed in 0.2.0. Use invoke instead.\n",
      "  warn_deprecated(\n"
     ]
    },
    {
     "name": "stdout",
     "output_type": "stream",
     "text": [
      "\n",
      "\n",
      "The capital of Bhutan is Thimphu.\n"
     ]
    }
   ],
   "source": [
    "text=\"what is the capital of butan\"\n",
    "print(llm.predict(text))"
   ]
  },
  {
   "cell_type": "code",
   "execution_count": 5,
   "metadata": {},
   "outputs": [],
   "source": [
    "os.environ[\"HUGGINGFACEHUB_API_TOKEN\"]=openhf_key"
   ]
  },
  {
   "cell_type": "code",
   "execution_count": 6,
   "metadata": {},
   "outputs": [
    {
     "name": "stderr",
     "output_type": "stream",
     "text": [
      "/Users/bhaskaradhikari/langchain/venv/lib/python3.9/site-packages/tqdm/auto.py:21: TqdmWarning: IProgress not found. Please update jupyter and ipywidgets. See https://ipywidgets.readthedocs.io/en/stable/user_install.html\n",
      "  from .autonotebook import tqdm as notebook_tqdm\n",
      "/Users/bhaskaradhikari/langchain/venv/lib/python3.9/site-packages/huggingface_hub/utils/_deprecation.py:131: FutureWarning: 'InferenceApi' (from 'huggingface_hub.inference_api') is deprecated and will be removed from version '1.0'. `InferenceApi` client is deprecated in favor of the more feature-complete `InferenceClient`. Check out this guide to learn how to convert your script to use it: https://huggingface.co/docs/huggingface_hub/guides/inference#legacy-inferenceapi-client.\n",
      "  warnings.warn(warning_message, FutureWarning)\n"
     ]
    }
   ],
   "source": [
    "from langchain import HuggingFaceHub\n",
    "llm_huggingface=HuggingFaceHub(repo_id='google/flan-t5-base',model_kwargs={\"temperature\":0,\"max_length\":64})\n"
   ]
  },
  {
   "cell_type": "code",
   "execution_count": 7,
   "metadata": {},
   "outputs": [
    {
     "name": "stdout",
     "output_type": "stream",
     "text": [
      "Moscow\n"
     ]
    }
   ],
   "source": [
    "output=llm_huggingface.predict(\"can you tell me the capital of russia\")\n",
    "print(output)"
   ]
  },
  {
   "cell_type": "code",
   "execution_count": 8,
   "metadata": {},
   "outputs": [
    {
     "data": {
      "text/plain": [
       "'tell me the capital of this india'"
      ]
     },
     "execution_count": 8,
     "metadata": {},
     "output_type": "execute_result"
    }
   ],
   "source": [
    "from langchain.prompts import PromptTemplate\n",
    "\n",
    "prompt_template=PromptTemplate(\n",
    "    input_variables=['country'],\n",
    "    template=\"tell me the capital of this {country}\"\n",
    "    )\n",
    "\n",
    "prompt_template.format(country='india')"
   ]
  },
  {
   "cell_type": "code",
   "execution_count": 9,
   "metadata": {},
   "outputs": [
    {
     "name": "stderr",
     "output_type": "stream",
     "text": [
      "/Users/bhaskaradhikari/langchain/venv/lib/python3.9/site-packages/langchain_core/_api/deprecation.py:117: LangChainDeprecationWarning: The function `run` was deprecated in LangChain 0.1.0 and will be removed in 0.2.0. Use invoke instead.\n",
      "  warn_deprecated(\n"
     ]
    },
    {
     "data": {
      "text/plain": [
       "'\\n\\nThe capital of India is New Delhi.'"
      ]
     },
     "execution_count": 9,
     "metadata": {},
     "output_type": "execute_result"
    }
   ],
   "source": [
    "from langchain.chains import LLMChain\n",
    "chain=LLMChain(llm=llm,prompt=prompt_template)\n",
    "chain.run(\"india\")\n"
   ]
  },
  {
   "cell_type": "code",
   "execution_count": 11,
   "metadata": {},
   "outputs": [],
   "source": [
    "capital_prompt=PromptTemplate(\n",
    "    input_variables=['country'],\n",
    "    template=\"capital of {country}\"\n",
    ")\n",
    "\n"
   ]
  },
  {
   "cell_type": "code",
   "execution_count": 13,
   "metadata": {},
   "outputs": [],
   "source": [
    "capital_chain=LLMChain(llm=llm,prompt=capital_prompt)"
   ]
  },
  {
   "cell_type": "code",
   "execution_count": 15,
   "metadata": {},
   "outputs": [],
   "source": [
    "famous_template=PromptTemplate(\n",
    "    input_variables=['capital'],\n",
    "    template=\"amazing place to visit in {capital}\"\n",
    ")\n",
    "famous_chain=LLMChain(llm=llm,prompt=famous_template)"
   ]
  },
  {
   "cell_type": "code",
   "execution_count": 16,
   "metadata": {},
   "outputs": [
    {
     "data": {
      "text/plain": [
       "\"\\n\\n1. Red Fort\\nThe Red Fort is a historical fort in the heart of Old Delhi. It was built in the 17th century by the Mughal emperor Shah Jahan and served as the residence of the Mughal emperors for nearly 200 years. The fort is made of red sandstone and is a stunning example of Mughal architecture. It is now a UNESCO World Heritage Site and a must-visit for anyone interested in Delhi's history.\\n\\n2. India Gate\\nIndia Gate is a war memorial located in the heart of New Delhi. It was built to honor the soldiers of the British Indian Army who died in World War I. The monument is a popular spot for locals and tourists alike, with a beautiful park surrounding it. It is also a popular spot for evening walks and picnics.\\n\\n3. Qutub Minar\\nQutub Minar is a 239.5 feet tall minaret, making it the tallest brick minaret in the world. It was built in the 12th century by Qutb-ud-din Aibak and is a prime example of Indo-Islamic architecture. The complex also includes several other historical structures, making it a popular tourist attraction.\\n\\n4. Humayun's\""
      ]
     },
     "execution_count": 16,
     "metadata": {},
     "output_type": "execute_result"
    }
   ],
   "source": [
    "from langchain.chains import SimpleSequentialChain\n",
    "chain=SimpleSequentialChain(chains=[capital_chain,famous_chain])\n",
    "chain.run(\"india\")\n"
   ]
  },
  {
   "cell_type": "code",
   "execution_count": 17,
   "metadata": {},
   "outputs": [],
   "source": [
    "capital_prompt=PromptTemplate(\n",
    "    input_variables=['country'],\n",
    "    template=\"capital of {country}\"\n",
    ")\n",
    "capital_chain=LLMChain(llm=llm,prompt=capital_prompt,output_key='capital')\n",
    "\n",
    "famous_template=PromptTemplate(\n",
    "    input_variables=['capital'],\n",
    "    template=\"amazing place to visit in {capital}\"\n",
    ")\n",
    "famous_chain=LLMChain(llm=llm,prompt=famous_template,output_key=\"places\")\n"
   ]
  },
  {
   "cell_type": "code",
   "execution_count": 18,
   "metadata": {},
   "outputs": [],
   "source": [
    "from langchain.chains import SequentialChain\n",
    "chain=SequentialChain(chains=[capital_chain,famous_chain],\n",
    "     input_variables=['country'],\n",
    "     output_variables=['capital','places']                \n",
    "    )"
   ]
  },
  {
   "cell_type": "code",
   "execution_count": 19,
   "metadata": {},
   "outputs": [
    {
     "name": "stderr",
     "output_type": "stream",
     "text": [
      "/Users/bhaskaradhikari/langchain/venv/lib/python3.9/site-packages/langchain_core/_api/deprecation.py:117: LangChainDeprecationWarning: The function `__call__` was deprecated in LangChain 0.1.0 and will be removed in 0.2.0. Use invoke instead.\n",
      "  warn_deprecated(\n"
     ]
    },
    {
     "data": {
      "text/plain": [
       "{'country': 'india',\n",
       " 'capital': '\\n\\nThe capital of India is New Delhi.',\n",
       " 'places': \" It is a bustling metropolis with a rich history, diverse culture, and a plethora of attractions to explore. Here are some of the top places to visit in New Delhi:\\n\\n1. Red Fort - This iconic red sandstone fort was built in the 17th century and served as the residence of Mughal emperors. It is a UNESCO World Heritage Site and a must-visit for its impressive architecture and historical significance.\\n\\n2. India Gate - A war memorial dedicated to Indian soldiers who lost their lives in World War I, India Gate is a popular spot for picnics and evening strolls. The surrounding lawns are a popular spot for locals to relax and enjoy the beautiful view.\\n\\n3. Qutub Minar - Another UNESCO World Heritage Site, Qutub Minar is a 240-foot tall minaret built in the 12th century. It is a masterpiece of Indo-Islamic architecture and a popular tourist attraction.\\n\\n4. Lotus Temple - This stunning temple is shaped like a lotus flower and is a symbol of peace and unity. It is open to people of all religions and is a popular spot for meditation and prayer.\\n\\n5. Humayun's Tomb - Considered a precursor to the Taj Mahal, this tomb is the final\"}"
      ]
     },
     "execution_count": 19,
     "metadata": {},
     "output_type": "execute_result"
    }
   ],
   "source": [
    "chain({'country':'india'})"
   ]
  }
 ],
 "metadata": {
  "kernelspec": {
   "display_name": "Python 3 (ipykernel)",
   "language": "python",
   "name": "python3"
  },
  "language_info": {
   "codemirror_mode": {
    "name": "ipython",
    "version": 3
   },
   "file_extension": ".py",
   "mimetype": "text/x-python",
   "name": "python",
   "nbconvert_exporter": "python",
   "pygments_lexer": "ipython3",
   "version": "3.9.18"
  }
 },
 "nbformat": 4,
 "nbformat_minor": 2
}
